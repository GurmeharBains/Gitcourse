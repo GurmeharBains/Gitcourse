{
 "cells": [
  {
   "cell_type": "code",
   "execution_count": 13,
   "id": "cd0cea64",
   "metadata": {},
   "outputs": [
    {
     "data": {
      "text/plain": [
       "65"
      ]
     },
     "execution_count": 13,
     "metadata": {},
     "output_type": "execute_result"
    }
   ],
   "source": [
    "def add(n1=20,n2=45):\n",
    "    return(n1+n2)\n",
    "add()"
   ]
  },
  {
   "cell_type": "code",
   "execution_count": 16,
   "id": "0a0f1954",
   "metadata": {},
   "outputs": [
    {
     "name": "stdout",
     "output_type": "stream",
     "text": [
      "enter 1st no.45\n",
      "enter2nd no.35\n"
     ]
    },
    {
     "data": {
      "text/plain": [
       "80"
      ]
     },
     "execution_count": 16,
     "metadata": {},
     "output_type": "execute_result"
    }
   ],
   "source": [
    "n1=int(input(\"enter 1st no.\"))\n",
    "n2=int(input(\"enter2nd no.\"))\n",
    "def add(n1,n2):\n",
    "    return(n1+n2)\n",
    "add(n1,n2)\n"
   ]
  },
  {
   "cell_type": "code",
   "execution_count": 17,
   "id": "d7786c2c",
   "metadata": {},
   "outputs": [
    {
     "name": "stdout",
     "output_type": "stream",
     "text": [
      "enter 1st no.2\n",
      "enter2nd no.5\n"
     ]
    },
    {
     "ename": "TypeError",
     "evalue": "add() missing 1 required positional argument: 'n2'",
     "output_type": "error",
     "traceback": [
      "\u001b[1;31m---------------------------------------------------------------------------\u001b[0m",
      "\u001b[1;31mTypeError\u001b[0m                                 Traceback (most recent call last)",
      "Cell \u001b[1;32mIn[17], line 4\u001b[0m\n\u001b[0;32m      2\u001b[0m n2\u001b[38;5;241m=\u001b[39m\u001b[38;5;28mint\u001b[39m(\u001b[38;5;28minput\u001b[39m(\u001b[38;5;124m\"\u001b[39m\u001b[38;5;124menter2nd no.\u001b[39m\u001b[38;5;124m\"\u001b[39m))\n\u001b[0;32m      3\u001b[0m add(n1,n2)\n\u001b[1;32m----> 4\u001b[0m add(n1)\n\u001b[0;32m      5\u001b[0m add(n2)\n\u001b[0;32m      6\u001b[0m add(n1,\u001b[38;5;241m3\u001b[39m)\n",
      "\u001b[1;31mTypeError\u001b[0m: add() missing 1 required positional argument: 'n2'"
     ]
    }
   ],
   "source": [
    "n1=int(input(\"enter 1st no.\"))\n",
    "n2=int(input(\"enter2nd no.\"))\n",
    "add(n1,n2)\n",
    "add(n1)\n",
    "add(n2)\n",
    "add(n1,3)\n",
    "add(3,n2)"
   ]
  },
  {
   "cell_type": "code",
   "execution_count": null,
   "id": "0c9a6a4a",
   "metadata": {},
   "outputs": [],
   "source": []
  }
 ],
 "metadata": {
  "kernelspec": {
   "display_name": "Python 3 (ipykernel)",
   "language": "python",
   "name": "python3"
  },
  "language_info": {
   "codemirror_mode": {
    "name": "ipython",
    "version": 3
   },
   "file_extension": ".py",
   "mimetype": "text/x-python",
   "name": "python",
   "nbconvert_exporter": "python",
   "pygments_lexer": "ipython3",
   "version": "3.11.4"
  }
 },
 "nbformat": 4,
 "nbformat_minor": 5
}
