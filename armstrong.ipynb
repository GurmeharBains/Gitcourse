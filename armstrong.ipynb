{
 "cells": [
  {
   "cell_type": "code",
   "execution_count": null,
   "id": "e4a16ec0",
   "metadata": {},
   "outputs": [],
   "source": [
    "n=int(input(\"enter a no.\"))\n",
    "temp=n\n",
    "sum=0\n",
    "while temp>0:\n",
    "  digit=temp%10\n",
    "  sum+=digit**3\n",
    "  temp=temp//10\n",
    "if(n==sum):\n",
    "    print(n,\"is an armstrong no.\")\n",
    "else:\n",
    "    print(n,\"is not armstrong no.\")\n"
   ]
  },
  {
   "cell_type": "code",
   "execution_count": null,
   "id": "4bf4f012",
   "metadata": {},
   "outputs": [],
   "source": [
    "\n"
   ]
  },
  {
   "cell_type": "code",
   "execution_count": null,
   "id": "0ed911a3",
   "metadata": {},
   "outputs": [],
   "source": []
  }
 ],
 "metadata": {
  "kernelspec": {
   "display_name": "Python 3 (ipykernel)",
   "language": "python",
   "name": "python3"
  },
  "language_info": {
   "codemirror_mode": {
    "name": "ipython",
    "version": 3
   },
   "file_extension": ".py",
   "mimetype": "text/x-python",
   "name": "python",
   "nbconvert_exporter": "python",
   "pygments_lexer": "ipython3",
   "version": "3.11.4"
  }
 },
 "nbformat": 4,
 "nbformat_minor": 5
}
