{
 "cells": [
  {
   "cell_type": "code",
   "execution_count": 5,
   "id": "4f6fa2da",
   "metadata": {},
   "outputs": [
    {
     "name": "stdout",
     "output_type": "stream",
     "text": [
      "Enter a no.=9\n",
      "The factorial is= 362880\n"
     ]
    }
   ],
   "source": [
    "def fact(n):\n",
    "    if(n==1):\n",
    "      return 1\n",
    "    else:\n",
    "      return(n*fact(n-1))\n",
    "n=int(input(\"Enter a no.=\"))\n",
    "print(\"The factorial is=\",fact(n))"
   ]
  },
  {
   "cell_type": "code",
   "execution_count": null,
   "id": "09dfae99",
   "metadata": {},
   "outputs": [],
   "source": []
  },
  {
   "cell_type": "code",
   "execution_count": null,
   "id": "1344432e",
   "metadata": {},
   "outputs": [],
   "source": [
    "\n"
   ]
  }
 ],
 "metadata": {
  "kernelspec": {
   "display_name": "Python 3 (ipykernel)",
   "language": "python",
   "name": "python3"
  },
  "language_info": {
   "codemirror_mode": {
    "name": "ipython",
    "version": 3
   },
   "file_extension": ".py",
   "mimetype": "text/x-python",
   "name": "python",
   "nbconvert_exporter": "python",
   "pygments_lexer": "ipython3",
   "version": "3.11.4"
  }
 },
 "nbformat": 4,
 "nbformat_minor": 5
}
